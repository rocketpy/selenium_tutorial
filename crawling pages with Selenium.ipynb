{
 "cells": [
  {
   "cell_type": "code",
   "execution_count": null,
   "metadata": {},
   "outputs": [],
   "source": [
    "# need download to directory geckodriver -https://github.com/mozilla/geckodriver/releases (geckodriver-v0.24.0-win64.zip)\n",
    "# pip install selenium"
   ]
  },
  {
   "cell_type": "code",
   "execution_count": null,
   "metadata": {},
   "outputs": [],
   "source": [
    "from selenium import webdriver"
   ]
  },
  {
   "cell_type": "code",
   "execution_count": null,
   "metadata": {},
   "outputs": [],
   "source": [
    "driver = webdriver.Firefox()\n",
    "driver.get(\"some url\")\n",
    "\n",
    "elems = driver.find_elements_by_xpath('//div[@title=\"title_name\"]')\n",
    "# print(elems)\n",
    "\n",
    "# to extract data\n",
    "prices = driver.find_elements_by_xpath('//span[@class=\"item_price\"]')\n",
    "\n",
    "pages_items = len(elems)\n",
    "\n",
    "for i in range(pages_items):\n",
    "    print(elems[i].text + \" : \" + prices[i].text)\n",
    "    \n",
    "driver.close()"
   ]
  },
  {
   "cell_type": "code",
   "execution_count": null,
   "metadata": {},
   "outputs": [],
   "source": [
    "# pagination\n",
    "import csv\n",
    "from selenium import webdriver\n",
    "\n",
    "page_nums = 10  # nums pagination pages\n",
    "max_page_digit = 3  # 001.html\n",
    "\n",
    "with open('result.csv', 'w') as f:\n",
    "    f.write('Name', 'Price \\n')\n",
    "\n",
    "driver = webdriver.Firefox()\n",
    "\n",
    "for i in range(1, max_page_digit + 1):\n",
    "    page_num = (max_page_digit - len(str(i))) + '0' + str(i)\n",
    "    url = \"https:// .../\" + page_num + '.html'\n",
    "\n",
    "    driver.get(url)\n",
    "    \n",
    "    elems = driver.find_elements_by_xpath('//div[@title=\"title_name\"]')\n",
    "    prices = driver.find_elements_by_xpath('//span[@class=\"item_price\"]')\n",
    "\n",
    "    pages_items = len(elems)\n",
    "    with open('results.csv', 'a') as f:\n",
    "        for i in range(pages_items):\n",
    "            f.write(elems[i].text + \",\" + prices[i].text + '\\n')\n",
    "\n",
    "driver.close()"
   ]
  }
 ],
 "metadata": {
  "kernelspec": {
   "display_name": "Python 3",
   "language": "python",
   "name": "python3"
  },
  "language_info": {
   "codemirror_mode": {
    "name": "ipython",
    "version": 3
   },
   "file_extension": ".py",
   "mimetype": "text/x-python",
   "name": "python",
   "nbconvert_exporter": "python",
   "pygments_lexer": "ipython3",
   "version": "3.6.2"
  }
 },
 "nbformat": 4,
 "nbformat_minor": 2
}
